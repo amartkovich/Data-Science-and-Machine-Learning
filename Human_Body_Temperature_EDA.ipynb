{
 "cells": [
  {
   "cell_type": "markdown",
   "metadata": {},
   "source": [
    "# What is the True Normal Human Body Temperature? \n",
    "\n",
    "#### Background\n",
    "\n",
    "The mean normal body temperature was held to be 37$^{\\circ}$C or 98.6$^{\\circ}$F for more than 120 years since it was first conceptualized and reported by Carl Wunderlich in a famous 1868 book. But, is this value statistically correct?"
   ]
  },
  {
   "cell_type": "markdown",
   "metadata": {},
   "source": [
    "<h3>Exercises</h3>\n",
    "\n",
    "<p>In this exercise, you will analyze a dataset of human body temperatures and employ the concepts of hypothesis testing, confidence intervals, and statistical significance.</p>\n",
    "\n",
    "<p>Answer the following questions <b>in this notebook below and submit to your Github account</b>.</p> \n",
    "\n",
    "<ol>\n",
    "<li>  Is the distribution of body temperatures normal? \n",
    "    <ul>\n",
    "    <li> Although this is not a requirement for the Central Limit Theorem to hold (read the introduction on Wikipedia's page about the CLT carefully: https://en.wikipedia.org/wiki/Central_limit_theorem), it gives us some peace of mind that the population may also be normally distributed if we assume that this sample is representative of the population.\n",
    "    <li> Think about the way you're going to check for the normality of the distribution. Graphical methods are usually used first, but there are also other ways: https://en.wikipedia.org/wiki/Normality_test\n",
    "    </ul>\n",
    "<li>  Is the sample size large? Are the observations independent?\n",
    "    <ul>\n",
    "    <li> Remember that this is a condition for the Central Limit Theorem, and hence the statistical tests we are using, to apply.\n",
    "    </ul>\n",
    "<li>  Is the true population mean really 98.6 degrees F?\n",
    "    <ul>\n",
    "    <li> First, try a bootstrap hypothesis test.\n",
    "    <li> Now, let's try frequentist statistical testing. Would you use a one-sample or two-sample test? Why?\n",
    "    <li> In this situation, is it appropriate to use the $t$ or $z$ statistic? \n",
    "    <li> Now try using the other test. How is the result be different? Why?\n",
    "    </ul>\n",
    "<li>  Draw a small sample of size 10 from the data and repeat both frequentist tests. \n",
    "    <ul>\n",
    "    <li> Which one is the correct one to use? \n",
    "    <li> What do you notice? What does this tell you about the difference in application of the $t$ and $z$ statistic?\n",
    "    </ul>\n",
    "<li>  At what temperature should we consider someone's temperature to be \"abnormal\"?\n",
    "    <ul>\n",
    "    <li> As in the previous example, try calculating everything using the boostrap approach, as well as the frequentist approach.\n",
    "    <li> Start by computing the margin of error and confidence interval. When calculating the confidence interval, keep in mind that you should use the appropriate formula for one draw, and not N draws.\n",
    "    </ul>\n",
    "<li>  Is there a significant difference between males and females in normal temperature?\n",
    "    <ul>\n",
    "    <li> What testing approach did you use and why?\n",
    "    <li> Write a story with your conclusion in the context of the original problem.\n",
    "    </ul>\n",
    "</ol>\n",
    "\n",
    "You can include written notes in notebook cells using Markdown: \n",
    "   - In the control panel at the top, choose Cell > Cell Type > Markdown\n",
    "   - Markdown syntax: http://nestacms.com/docs/creating-content/markdown-cheat-sheet\n",
    "\n",
    "#### Resources\n",
    "\n",
    "+ Information and data sources: http://www.amstat.org/publications/jse/datasets/normtemp.txt, http://www.amstat.org/publications/jse/jse_data_archive.htm\n",
    "+ Markdown syntax: http://nestacms.com/docs/creating-content/markdown-cheat-sheet\n",
    "\n",
    "****"
   ]
  },
  {
   "cell_type": "code",
   "execution_count": 142,
   "metadata": {},
   "outputs": [
    {
     "name": "stdout",
     "output_type": "stream",
     "text": [
      "   temperature gender  heart_rate\n",
      "0         99.3      F        68.0\n",
      "1         98.4      F        81.0\n",
      "2         97.8      M        73.0\n",
      "3         99.2      F        66.0\n",
      "4         98.0      F        73.0\n"
     ]
    }
   ],
   "source": [
    "import pandas as pd\n",
    "import numpy as np\n",
    "import matplotlib.pyplot as plt\n",
    "import seaborn as sns\n",
    "from scipy.stats import shapiro\n",
    "from scipy import stats\n",
    "\n",
    "# Load json file\n",
    "#json_data = json.load((open('/Users/HF/Documents/Education/Springboard/999_HBD_EDA/world_bank_projects.json')))\n",
    "\n",
    "df = pd.read_csv('data/human_body_temperature.csv')\n",
    "# df = pd.read_csv('/Users/HF/Documents/Education/Springboard/999_HBD_EDA/human_body_temperature.csv')\n",
    "print (df.head())"
   ]
  },
  {
   "cell_type": "markdown",
   "metadata": {},
   "source": [
    "## 1) Is the distribution of body temperatures normal?\n",
    "We will apply 2 tests:\n",
    "+ Visual Test (histogram)\n",
    "+ Shapiro-Wilk Test\n",
    "\n",
    "Answer:\n",
    "+ the histogram looks more or less normal, let's apply Shapiro-Wilk test to confirm normailty\n",
    "(see results below)."
   ]
  },
  {
   "cell_type": "code",
   "execution_count": 143,
   "metadata": {},
   "outputs": [
    {
     "name": "stdout",
     "output_type": "stream",
     "text": [
      "Sample mean =98.249 degrees F\n",
      "Sample standard deviation =0.73 degrees F\n"
     ]
    },
    {
     "data": {
      "image/png": "[encoded data removed]",
      "text/plain": [
       "<Figure size 432x288 with 1 Axes>"
      ]
     },
     "metadata": {
      "needs_background": "light"
     },
     "output_type": "display_data"
    },
    {
     "name": "stdout",
     "output_type": "stream",
     "text": [
      "Statistics=0.987, p=0.233\n",
      "Sample looks normally distributed (fail to reject H0)\n"
     ]
    }
   ],
   "source": [
    "# Calculate mean and standard deviation of the sample\n",
    "temp_sample_mean=np.mean(df['temperature'])\n",
    "print(\"Sample mean =\"+str(np.round(temp_sample_mean,3))+\" degrees F\")\n",
    "temp_sample_std=np.std(df['temperature'])\n",
    "print(\"Sample standard deviation =\"+str(np.round(temp_sample_std,3))+\" degrees F\")\n",
    "\n",
    "# Histogram\n",
    "plt.hist(df['temperature'], bins = 30)\n",
    "plt.show()\n",
    "\n",
    "# Shapiro-Wilk test\n",
    "stat, p = shapiro(df['temperature'])\n",
    "print('Statistics=%.3f, p=%.3f' % (stat, p))\n",
    "alpha = 0.05\n",
    "if p > alpha:\n",
    " print('Sample looks normally distributed (fail to reject H0)')\n",
    "else:\n",
    " print('Sample does not look normally distributed (reject H0)')\n"
   ]
  },
  {
   "cell_type": "markdown",
   "metadata": {},
   "source": [
    "# 2)\n",
    "# Are the observations independent?\n",
    "Answer: in the ata description it says that the data is random, therefore\n",
    "it is safe to assume that the data is independent\n",
    "\n",
    "# Is the sample size large? \n",
    "Answer: In general a sample size of 30 is considered sufficient. Our sample size n=130, therefore is large enough.\n",
    "The smaple size also meets the 10% condition. The test was done in 1992. Assuming that\n",
    "the world's population at the time was 4bn, 130 datapoint is a small fraction of a percent."
   ]
  },
  {
   "cell_type": "code",
   "execution_count": 144,
   "metadata": {},
   "outputs": [
    {
     "name": "stdout",
     "output_type": "stream",
     "text": [
      "Sample size = 130\n"
     ]
    }
   ],
   "source": [
    "sample_size=len(df['temperature'])\n",
    "print(\"Sample size =\", sample_size)"
   ]
  },
  {
   "cell_type": "markdown",
   "metadata": {},
   "source": [
    "# 3) Is the true population mean really 98.6 degrees F?\n",
    "+ First, try a bootstrap hypothesis test.\n",
    "+ Now, let's try frequentist statistical testing. Would you use a one-sample or two-sample test? Why?\n",
    "+ In this situation, is it appropriate to use the  t- or z- statistic?\n",
    "+ Now try using the other test. How is the result be different? Why?\n",
    "\n",
    "The hypothesis:\n",
    "+ H0: populastion mean = 98.6 F\n",
    "+ H1: populastion mean <> 98.6 F"
   ]
  },
  {
   "cell_type": "markdown",
   "metadata": {},
   "source": [
    "# Bootstrap testing:"
   ]
  },
  {
   "cell_type": "code",
   "execution_count": 145,
   "metadata": {},
   "outputs": [
    {
     "name": "stdout",
     "output_type": "stream",
     "text": [
      "Bootstrap p-value = 0.0\n",
      "Populastion mean <> 98.6  F (reject H0)\n"
     ]
    }
   ],
   "source": [
    "translated_temp = df['temperature'] - temp_sample_mean + 98.6\n",
    "bs_replicates = np.empty(10000)\n",
    "\n",
    "# Generate replicates\n",
    "for i in range(10000):\n",
    "    bs_replicates[i] = np.mean(np.random.choice(df['temperature'], size=sample_size))\n",
    "    \n",
    "p_1 = np.sum(bs_replicates <= temp_sample_std) / 10000\n",
    "print(\"Bootstrap p-value =\", p_1)\n",
    "\n",
    "if p_1 > alpha:\n",
    " print('Populastion mean = 98.6 F (fail to reject H0)')\n",
    "else:\n",
    " print('Populastion mean <> 98.6  F (reject H0)')"
   ]
  },
  {
   "cell_type": "markdown",
   "metadata": {},
   "source": [
    "# Frequentist statistical testing:\n",
    "\n",
    "We are treating everyone as being in the same group, with one mean using a one-sample test (sonce we have only one sample). The population standard deviation is not given, so we assume it is not known. The sample standard deviation is known from the data and we know that the sample size is large enough for CLT to apply, so we can use a  z-test.\n"
   ]
  },
  {
   "cell_type": "code",
   "execution_count": 146,
   "metadata": {},
   "outputs": [
    {
     "name": "stdout",
     "output_type": "stream",
     "text": [
      "z-value = -5.475925202078116\n",
      "p-value = 4.3523151658821886e-08\n",
      "Populastion mean <> 98.6 F (reject H0)\n"
     ]
    }
   ],
   "source": [
    "z = (temp_sample_mean - 98.6)/(temp_sample_std / np.sqrt(sample_size))\n",
    "print (\"z-value =\", z)\n",
    "\n",
    "p_2 = stats.norm.cdf(z) * 2\n",
    "print (\"p-value =\", p_2)\n",
    "\n",
    "if p_2 > alpha:\n",
    " print('Populastion mean = 98.6 F (fail to reject H0)')\n",
    "else:\n",
    " print('Populastion mean <> 98.6 F (reject H0)')"
   ]
  },
  {
   "cell_type": "markdown",
   "metadata": {},
   "source": [
    "# In this situation, is it appropriate to use the t- or z- statistic?\n",
    "It is appropriate to use z-test, since the sample size is greater than 30.\n",
    "\n",
    "\n",
    "# t-test\n",
    "p value of t-test is larger than z-test (see below). This means that t-test factors in the greater uncertainty of estimating the standard deviation than the z-test."
   ]
  },
  {
   "cell_type": "code",
   "execution_count": 147,
   "metadata": {},
   "outputs": [
    {
     "name": "stdout",
     "output_type": "stream",
     "text": [
      "p-value = 2.165141048166529e-07\n",
      "Populastion mean <> 98.6 F (reject H0)\n"
     ]
    }
   ],
   "source": [
    "# t-test p-value:\n",
    "p_3=stats.t.sf(abs(z),130)*2\n",
    "\n",
    "print (\"p-value =\", p_3)\n",
    "\n",
    "if p_3 > alpha:\n",
    " print('Populastion mean = 98.6 F (fail to reject H0)')\n",
    "else:\n",
    " print('Populastion mean <> 98.6 F (reject H0)')"
   ]
  },
  {
   "cell_type": "markdown",
   "metadata": {},
   "source": [
    "# 4) Draw a small sample of size 10 from the data and repeat both frequentist tests\n",
    "Which one is the correct one to use?\n",
    "What do you notice? What does this tell you about the difference in application of the  𝑡\n",
    "t\n",
    "  and  𝑧\n",
    "z\n",
    "  statistic?"
   ]
  },
  {
   "cell_type": "code",
   "execution_count": 148,
   "metadata": {},
   "outputs": [
    {
     "name": "stdout",
     "output_type": "stream",
     "text": [
      "The z-test p-value =1.185141056050877e-10.\n",
      "The t-test p-value =0.00011936061606303511.\n"
     ]
    }
   ],
   "source": [
    "sample_10 = np.random.choice(df['temperature'], size=10)\n",
    "\n",
    "sample_10_mean=np.mean(sample_10)\n",
    "sample_10_std=np.std(sample_10)\n",
    "test_stat_10=(sample_10_mean-98.6)/(sample_10_std/np.sqrt(130))\n",
    "p_z_1=pval_z=stats.norm.cdf(test_stat_10)*2\n",
    "print('The z-test p-value ='+str(p_z_1)+'.')\n",
    "p_t_1=stats.t.sf(abs(test_stat_10),9)*2\n",
    "print('The t-test p-value ='+ str(p_t_1)+'.')"
   ]
  },
  {
   "cell_type": "markdown",
   "metadata": {},
   "source": [
    "Considering that the sample size is less than 30, in this case it would be correct to use t-test, and not the z-test.\n",
    "Obtained p-value of t-test is larger than the p-value of z-test (see above). This means that t-test (conisdering the smaller sample size) factors in the greater uncertainty of estimating the standard deviation than the z-test."
   ]
  },
  {
   "cell_type": "markdown",
   "metadata": {},
   "source": [
    "# 5) At what temperature should we consider someone's temperature to be \"abnormal\"?\n",
    "+ As in the previous example, try calculating everything using the boostrap approach, as well as the frequentist approach.\n",
    "\n",
    "Let's give definition of abnormal temerature. In our case abnormal temeprature will be the one that is otside of 95% confidence interval."
   ]
  },
  {
   "cell_type": "code",
   "execution_count": 149,
   "metadata": {},
   "outputs": [
    {
     "name": "stdout",
     "output_type": "stream",
     "text": [
      "Bootstrap 95% confidence interval: [98.12384615384615 - 98.37307692307692]\n"
     ]
    }
   ],
   "source": [
    "# Bootstrapped approach\n",
    "bs_replicates = np.empty(10000)\n",
    "\n",
    "# Generate replicates\n",
    "for i in range(10000):\n",
    "    bs_replicates[i] = np.mean(np.random.choice(df['temperature'], size=sample_size))\n",
    "    \n",
    "bs_conf_interval=np.percentile(bs_replicates, [2.5,97.5])\n",
    "print('Bootstrap 95% confidence interval: ['+ str(bs_conf_interval[0])+\" - \"+str(bs_conf_interval[1])+\"]\")"
   ]
  },
  {
   "cell_type": "code",
   "execution_count": 150,
   "metadata": {},
   "outputs": [
    {
     "name": "stdout",
     "output_type": "stream",
     "text": [
      "Frequentist confidence interval: [96.81775582674824, 99.68070571171332]\n"
     ]
    }
   ],
   "source": [
    "# Frequentist approach\n",
    "z_star=stats.norm.ppf(.975)\n",
    "Margin_of_Error=z_star*temp_sample_std\n",
    "conf_interval=np.array([temp_sample_mean-Margin_of_Error,temp_sample_mean+Margin_of_Error])\n",
    "print('Frequentist confidence interval: ['+str(conf_interval[0])+\", \"+str(conf_interval[1])+\"]\")"
   ]
  },
  {
   "cell_type": "markdown",
   "metadata": {},
   "source": [
    "# 6) Is there a significant difference between males and females in normal temperature?\n",
    "\n",
    "Let's use a frequentist hypothesis test for the difference of means to test whether there is a significant difference between males and females in normal temperature.\n",
    "\n",
    "+ H0 = Male and female body temperature means are the same\n",
    "+ H1 = Male and female body temperature means are not the same\n",
    "\n",
    "Let's check whether sample sizes for male and female body temperatures are large enough to apply Central Limit Theorem.\n"
   ]
  },
  {
   "cell_type": "code",
   "execution_count": 151,
   "metadata": {},
   "outputs": [
    {
     "name": "stdout",
     "output_type": "stream",
     "text": [
      "Sampling distribution sample size of male body temperatures = 65\n",
      "Sampling distribution sample size of female body temperatures = 65\n"
     ]
    }
   ],
   "source": [
    "male_temp=df[df.gender=='M']['temperature']\n",
    "female_temp=df[df.gender=='F']['temperature']\n",
    "male_sample_size=len(male_temp)\n",
    "female_sample_size=len(female_temp)\n",
    "print(\"Sampling distribution sample size of male body temperatures =\", male_sample_size)\n",
    "print(\"Sampling distribution sample size of female body temperatures =\", female_sample_size)"
   ]
  },
  {
   "cell_type": "markdown",
   "metadata": {},
   "source": [
    "Both sample sizes are > 30 and we can apply CLT."
   ]
  },
  {
   "cell_type": "code",
   "execution_count": 152,
   "metadata": {},
   "outputs": [
    {
     "name": "stdout",
     "output_type": "stream",
     "text": [
      "The difference of the distributions has a mean - 0.2892 , and a standard deviation - 0.1256\n"
     ]
    }
   ],
   "source": [
    "temp_male_mean=np.mean(male_temp)\n",
    "temp_female_mean=np.mean(female_temp)\n",
    "temp_male_std=np.std(male_temp)\n",
    "temp_female_std=np.std(female_temp)\n",
    "diff_mean=temp_female_mean-temp_male_mean\n",
    "diff_std=np.sqrt((temp_male_std**2/len(male_temp))+(temp_female_std**2/len(female_temp)))\n",
    "print(\"The difference of the distributions has a mean -\", (np.round(diff_mean,4)), \\\n",
    "      \", and a standard deviation -\", str(np.round(diff_std,4)))"
   ]
  },
  {
   "cell_type": "markdown",
   "metadata": {},
   "source": [
    "Now, let's calculate the likelihood of getting this value of difference of means"
   ]
  },
  {
   "cell_type": "code",
   "execution_count": 153,
   "metadata": {},
   "outputs": [
    {
     "name": "stdout",
     "output_type": "stream",
     "text": [
      "Male and female body temperature means are not the same (reject H0)\n"
     ]
    }
   ],
   "source": [
    "p_4=(1-stats.norm.cdf(diff_mean,scale=diff_std))*2\n",
    "\n",
    "if p_4 > alpha:\n",
    " print('Male and female body temperature means are the same (fail to reject H0)')\n",
    "else:\n",
    " print('Male and female body temperature means are not the same (reject H0)')\n"
   ]
  },
  {
   "cell_type": "markdown",
   "metadata": {},
   "source": [
    "# Conclusion\n",
    "\n",
    "The initial report stated that the mean normal body temperature was held to be 98.6 degree F for more than 120 years. However, our analysis shows that the mean body temperature is lower and lies within 98.12 to 98.37 deg F.\n",
    "\n",
    "We can also see that there is difference between males and females in normal temperature."
   ]
  }
 ],
 "metadata": {
  "kernelspec": {
   "display_name": "Python 3",
   "language": "python",
   "name": "python3"
  },
  "language_info": {
   "codemirror_mode": {
    "name": "ipython",
    "version": 3
   },
   "file_extension": ".py",
   "mimetype": "text/x-python",
   "name": "python",
   "nbconvert_exporter": "python",
   "pygments_lexer": "ipython3",
   "version": "3.7.1"
  }
 },
 "nbformat": 4,
 "nbformat_minor": 1
}
