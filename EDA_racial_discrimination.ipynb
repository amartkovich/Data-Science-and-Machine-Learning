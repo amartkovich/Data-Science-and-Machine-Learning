{
 "cells": [
  {
   "cell_type": "markdown",
   "metadata": {},
   "source": [
    "# Examining Racial Discrimination in the US Job Market\n",
    "\n",
    "### Background\n",
    "Racial discrimination continues to be pervasive in cultures throughout the world. Researchers examined the level of racial discrimination in the United States labor market by randomly assigning identical résumés to black-sounding or white-sounding names and observing the impact on requests for interviews from employers.\n",
    "\n",
    "### Data\n",
    "In the dataset provided, each row represents a resume. The 'race' column has two values, 'b' and 'w', indicating black-sounding and white-sounding. The column 'call' has two values, 1 and 0, indicating whether the resume received a call from employers or not.\n",
    "\n",
    "Note that the 'b' and 'w' values in race are assigned randomly to the resumes when presented to the employer."
   ]
  },
  {
   "cell_type": "markdown",
   "metadata": {},
   "source": [
    "### Exercises\n",
    "You will perform a statistical analysis to establish whether race has a significant impact on the rate of callbacks for resumes.\n",
    "\n",
    "Answer the following questions **in this notebook below and submit to your Github account**. \n",
    "\n",
    "   1. What test is appropriate for this problem? Does CLT apply?\n",
    "   2. What are the null and alternate hypotheses?\n",
    "   3. Compute margin of error, confidence interval, and p-value. Try using both the bootstrapping and the frequentist statistical approaches.\n",
    "   4. Write a story describing the statistical significance in the context or the original problem.\n",
    "   5. Does your analysis mean that race/name is the most important factor in callback success? Why or why not? If not, how would you amend your analysis?\n",
    "\n",
    "You can include written notes in notebook cells using Markdown: \n",
    "   - In the control panel at the top, choose Cell > Cell Type > Markdown\n",
    "   - Markdown syntax: http://nestacms.com/docs/creating-content/markdown-cheat-sheet\n",
    "\n",
    "#### Resources\n",
    "+ Experiment information and data source: http://www.povertyactionlab.org/evaluation/discrimination-job-market-united-states\n",
    "+ Scipy statistical methods: http://docs.scipy.org/doc/scipy/reference/stats.html \n",
    "+ Markdown syntax: http://nestacms.com/docs/creating-content/markdown-cheat-sheet\n",
    "+ Formulas for the Bernoulli distribution: https://en.wikipedia.org/wiki/Bernoulli_distribution"
   ]
  },
  {
   "cell_type": "code",
   "execution_count": 29,
   "metadata": {},
   "outputs": [],
   "source": [
    "import pandas as pd\n",
    "import numpy as np\n",
    "from scipy import stats"
   ]
  },
  {
   "cell_type": "code",
   "execution_count": 30,
   "metadata": {},
   "outputs": [],
   "source": [
    "data = pd.io.stata.read_stata('data/us_job_market_discrimination.dta')\n"
   ]
  },
  {
   "cell_type": "code",
   "execution_count": 31,
   "metadata": {},
   "outputs": [
    {
     "data": {
      "text/plain": [
       "235.0"
      ]
     },
     "execution_count": 31,
     "metadata": {},
     "output_type": "execute_result"
    }
   ],
   "source": [
    "# number of callbacks for black-sounding names\n",
    "sum(data[data.race=='w'].call)"
   ]
  },
  {
   "cell_type": "code",
   "execution_count": 32,
   "metadata": {},
   "outputs": [
    {
     "name": "stdout",
     "output_type": "stream",
     "text": [
      "  id ad  education  ofjobs  yearsexp  honors  volunteer  military  empholes  \\\n",
      "0  b  1          4       2         6       0          0         0         1   \n",
      "1  b  1          3       3         6       0          1         1         0   \n",
      "2  b  1          4       1         6       0          0         0         0   \n",
      "3  b  1          3       4         6       0          1         0         1   \n",
      "4  b  1          3       3        22       0          0         0         0   \n",
      "\n",
      "   occupspecific    ...      compreq  orgreq  manuf  transcom  bankreal trade  \\\n",
      "0             17    ...          1.0     0.0    1.0       0.0       0.0   0.0   \n",
      "1            316    ...          1.0     0.0    1.0       0.0       0.0   0.0   \n",
      "2             19    ...          1.0     0.0    1.0       0.0       0.0   0.0   \n",
      "3            313    ...          1.0     0.0    1.0       0.0       0.0   0.0   \n",
      "4            313    ...          1.0     1.0    0.0       0.0       0.0   0.0   \n",
      "\n",
      "  busservice othservice  missind  ownership  \n",
      "0        0.0        0.0      0.0             \n",
      "1        0.0        0.0      0.0             \n",
      "2        0.0        0.0      0.0             \n",
      "3        0.0        0.0      0.0             \n",
      "4        0.0        1.0      0.0  Nonprofit  \n",
      "\n",
      "[5 rows x 65 columns]\n",
      "Number of 'W' resumes = 2435 > 30\n",
      "Number of 'B' resumes = 2435 > 30\n"
     ]
    }
   ],
   "source": [
    "print(data.head())\n",
    "\n",
    "#Number of resumes\n",
    "w_count = len(data[data.race=='w'])\n",
    "b_count = len(data[data.race=='b'])\n",
    "\n",
    "print(\"Number of 'W' resumes =\", w_count, \"> 30\")\n",
    "print(\"Number of 'B' resumes =\", b_count, \"> 30\")"
   ]
  },
  {
   "cell_type": "markdown",
   "metadata": {
    "collapsed": true
   },
   "source": [
    "<div class=\"span5 alert alert-success\">\n",
    "<p> </p>\n",
    "    \n",
    "Q1) The experiment is randomzied. Numer of records is > 30 and it is less than 10% of the resumes on the job market (assuming there are more than 1 mln resumes), therefore we can apply CLT. We can use a 2-sample t-test to determine whether the two populations (b and w) are different.\n",
    "\n",
    "<p> </p>\n",
    "\n",
    "Q2) Hypotheses:\n",
    "\n",
    "H0: W and b resumes have the same callback rate.\n",
    "\n",
    "H1: W and b resumes do not have the same callback rate.\n",
    "</div>"
   ]
  },
  {
   "cell_type": "code",
   "execution_count": 33,
   "metadata": {},
   "outputs": [],
   "source": [
    "w = data[data['race']=='w']\n",
    "b = data[data['race']=='b']"
   ]
  },
  {
   "cell_type": "markdown",
   "metadata": {},
   "source": [
    "<div class=\"span5 alert alert-success\">\n",
    "<p> </p>\n",
    "    \n",
    "Q3)\n",
    "</div>"
   ]
  },
  {
   "cell_type": "code",
   "execution_count": 34,
   "metadata": {},
   "outputs": [
    {
     "name": "stdout",
     "output_type": "stream",
     "text": [
      "Percentage of callbacks for w resumes = 0.09650924024640657\n",
      "Percentage of callbacks for b resumes = 0.06447638603696099\n",
      "Percentage difference of callbacks =  0.032032854209445585\n",
      "\n",
      "t-statistic:  4.114705290861751\n",
      "p-value:  3.942941513645935e-05\n",
      "Margin of Error = 0.015258417380692\n",
      "Confidence Interval = [0.01677444 0.04729127]\n",
      "p-value: 3.876744018936831e-05\n",
      "\n",
      "w-resumes receive 1.4968152866242037 times more calls than b-resumes\n"
     ]
    }
   ],
   "source": [
    "# Callbacks percentage\n",
    "w_perc = np.sum(w['call']) / w_count\n",
    "b_perc = np.sum(b['call']) / b_count\n",
    "print('Percentage of callbacks for w resumes =', w_perc)\n",
    "print('Percentage of callbacks for b resumes =', b_perc)\n",
    "\n",
    "# Difference in callbacks\n",
    "callback_diff = w_perc - b_perc\n",
    "print('Percentage difference of callbacks = ', callback_diff)\n",
    "\n",
    "# T-statistic and p-value\n",
    "t_stat, p = stats.ttest_ind(w['call'],b['call'],equal_var=False)\n",
    "print('\\nt-statistic: ', t_stat)\n",
    "print('p-value: ', p)\n",
    "\n",
    "# Margin of error\n",
    "s_error = np.sqrt(w['call'].var()/w_count + b['call'].var()/b_count)\n",
    "m_error = 1.96 * s_error\n",
    "print('Margin of Error =', m_error)\n",
    "\n",
    "# Confidence interval\n",
    "conf_interval = callback_diff + (np.array([-1, 1]) * m_error)\n",
    "print('Confidence Interval =', conf_interval)\n",
    "\n",
    "# p-value\n",
    "p_value = stats.norm.cdf(-t_stat) * 2\n",
    "print('p-value:', p_value)\n",
    "\n",
    "print (\"\\nw-resumes receive\", w_perc/b_perc, \"times more calls than b-resumes\")\n"
   ]
  },
  {
   "cell_type": "markdown",
   "metadata": {},
   "source": [
    "<div class=\"span5 alert alert-success\">\n",
    "<p> </p>\n",
    "    \n",
    "Q4) W-resumes receive calls 1.5x more than -resumes. Considering that p-value (3.876744018936831e-05) is significantly smaller than 0.05, we reject the null hypothesis that - and w- resumes have the same call back rate.\n",
    "\n",
    "Q5) The analysis demonstrates that race is a factor of callck success, but we did not analyze the importance of this factor, therefore ewe cannot conclude that the race is \"the most important factor\".\n",
    "To be able to asess importance of the race we would need to analyze other factors in the dataset (e.g. education, number of jos, years of experience, etc) and then see how strong each of those factors correlate with the target variale (callback)\n",
    "\n",
    "</div>"
   ]
  },
  {
   "cell_type": "markdown",
   "metadata": {
    "collapsed": true
   },
   "source": []
  },
  {
   "cell_type": "code",
   "execution_count": null,
   "metadata": {},
   "outputs": [],
   "source": []
  }
 ],
 "metadata": {
  "kernelspec": {
   "display_name": "Python 3",
   "language": "python",
   "name": "python3"
  },
  "language_info": {
   "codemirror_mode": {
    "name": "ipython",
    "version": 3
   },
   "file_extension": ".py",
   "mimetype": "text/x-python",
   "name": "python",
   "nbconvert_exporter": "python",
   "pygments_lexer": "ipython3",
   "version": "3.7.1"
  }
 },
 "nbformat": 4,
 "nbformat_minor": 1
}
