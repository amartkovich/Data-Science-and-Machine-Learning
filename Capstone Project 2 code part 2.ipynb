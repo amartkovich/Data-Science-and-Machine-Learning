{
 "cells": [
  {
   "cell_type": "code",
   "execution_count": 1,
   "metadata": {},
   "outputs": [
    {
     "data": {
      "text/html": [
       "<style>.container { width:100% !important; }</style>"
      ],
      "text/plain": [
       "<IPython.core.display.HTML object>"
      ]
     },
     "metadata": {},
     "output_type": "display_data"
    },
    {
     "name": "stdout",
     "output_type": "stream",
     "text": [
      "(4803, 23)\n",
      "Index(['budget', 'genres', 'homepage', 'id', 'keywords', 'original_language',\n",
      "       'original_title', 'overview', 'popularity', 'production_companies',\n",
      "       'production_countries', 'release_date', 'revenue', 'runtime',\n",
      "       'spoken_languages', 'status', 'tagline', 'title', 'vote_average',\n",
      "       'vote_count', 'tittle', 'cast', 'crew'],\n",
      "      dtype='object')\n"
     ]
    }
   ],
   "source": [
    "import numpy as np\n",
    "import pandas as pd\n",
    "from datetime import datetime\n",
    "import time\n",
    "from datetime import date\n",
    "import datetime as dt\n",
    "import math\n",
    "\n",
    "\n",
    "import collections\n",
    "from nltk.stem.snowball import SnowballStemmer\n",
    "import nltk\n",
    "from nltk.tokenize import RegexpTokenizer\n",
    "\n",
    "from sklearn.metrics.pairwise import cosine_similarity\n",
    "from sklearn.feature_extraction.text import CountVectorizer\n",
    "from sklearn.feature_extraction.text import TfidfVectorizer\n",
    "\n",
    "import json\n",
    "from pandas.io.json import json_normalize\n",
    "from ast import literal_eval\n",
    "\n",
    "import matplotlib.pyplot as plt\n",
    "\n",
    "######################################################\n",
    "# Jupyter view adjustmets\n",
    "from IPython.core.display import display, HTML #Increase the code window width\n",
    "display(HTML(\"<style>.container { width:100% !important; }</style>\")) #Increase the code window width\n",
    "pd.set_option('expand_frame_repr', False) #keep columns inline withouth wrapping to the next line\n",
    "\n",
    "######################################################\n",
    "\n",
    "###### Download movie data\n",
    "df1 = pd.read_csv('/Users/HF/Documents/Springboard/0_Capstone_2/tmdb_5000_credits.csv', low_memory=False)\n",
    "df2 = pd.read_csv('/Users/HF/Documents/Springboard/0_Capstone_2/tmdb_5000_movies.csv', low_memory=False)\n",
    "\n",
    "df1.columns = ['id','tittle','cast','crew']\n",
    "\n",
    "df= df2.merge(df1,on='id')\n",
    "print(df.shape)\n",
    "print(df.columns)"
   ]
  },
  {
   "cell_type": "code",
   "execution_count": 2,
   "metadata": {},
   "outputs": [
    {
     "data": {
      "image/png": "[encoded data removed]",
      "text/plain": [
       "<Figure size 432x288 with 1 Axes>"
      ]
     },
     "metadata": {
      "needs_background": "light"
     },
     "output_type": "display_data"
    }
   ],
   "source": [
    "#Analyze average vote\n",
    "plt.hist(df['vote_average'], bins = 10)\n",
    "plt.show()"
   ]
  },
  {
   "cell_type": "markdown",
   "metadata": {},
   "source": [
    " - The distribution of viewers' votes is slightly skewed to the left - majority of the votes are 7 (41%), then 6 (27%) and third - 8 (19%)\n",
    " - 87% of all the movies are rated as 6 and above.\n",
    " - Very few movies (0.1%) received the average rating of 10.\n",
    " - About 1% of the movies received the average rating of 0.\n"
   ]
  },
  {
   "cell_type": "code",
   "execution_count": 3,
   "metadata": {},
   "outputs": [
    {
     "data": {
      "image/png": "[encoded data removed]",
      "text/plain": [
       "<Figure size 432x288 with 1 Axes>"
      ]
     },
     "metadata": {
      "needs_background": "light"
     },
     "output_type": "display_data"
    }
   ],
   "source": [
    "df2['decade'] = df['release_date'].apply(lambda x:(((float(str(x)[:4]))-1900)/10))\n",
    "\n",
    "df2 = round(df2['decade'].dropna())*10+1900\n",
    "plt.hist(df2, bins = 10)\n",
    "plt.show()"
   ]
  },
  {
   "cell_type": "markdown",
   "metadata": {},
   "source": [
    "- 90% the movies in the database have been released between 2000 and 2019."
   ]
  },
  {
   "cell_type": "code",
   "execution_count": 4,
   "metadata": {},
   "outputs": [
    {
     "name": "stdout",
     "output_type": "stream",
     "text": [
      "(4803, 5)\n"
     ]
    }
   ],
   "source": [
    "# Keep only the fileds required for recommender\n",
    "df = df[['title', 'genres','keywords', 'cast', 'crew']]\n",
    "print(df.shape)"
   ]
  },
  {
   "cell_type": "code",
   "execution_count": 5,
   "metadata": {},
   "outputs": [
    {
     "name": "stdout",
     "output_type": "stream",
     "text": [
      "Enter the movie: aliens on mars\n"
     ]
    }
   ],
   "source": [
    "movie = input('Enter the movie: ')\n",
    "# 'Avengers: Age of Ultron'\n",
    "\n",
    "# fantasy action adventure dualident amnesia"
   ]
  },
  {
   "cell_type": "code",
   "execution_count": 6,
   "metadata": {},
   "outputs": [
    {
     "name": "stdout",
     "output_type": "stream",
     "text": [
      "No such movie in the data. Please add info below\n",
      "Enter movie genre:action adventure fantasy alien marvelcom\n",
      "Enter movie director:jamescameron\n",
      "Enter movie crew:sigourneyweaver adrienbroudy mickeyrourke\n"
     ]
    }
   ],
   "source": [
    "movie_count = df['title'].str.contains(movie).sum()\n",
    "if movie_count==0:\n",
    "    print (\"No such movie in the data. Please add info below\")\n",
    "    m_genre = input (\"Enter movie genre:\")\n",
    "    m_director = input (\"Enter movie director:\")\n",
    "    m_crew = input (\"Enter movie crew:\")\n",
    "    # Create reciord of a new movie\n",
    "    df_new = pd.DataFrame(columns=['title', 'bow'])\n",
    "    df_new.append(pd.Series(), ignore_index=True)\n",
    "    df_new = df_new.append({'title' : str(movie) , \\\n",
    "                        'bow' : (str(m_genre)+\" \"+str(m_director)+\" \"+str(m_crew))} , ignore_index=True)\n",
    "\n"
   ]
  },
  {
   "cell_type": "markdown",
   "metadata": {},
   "source": [
    "# Process Features"
   ]
  },
  {
   "cell_type": "code",
   "execution_count": 7,
   "metadata": {},
   "outputs": [
    {
     "name": "stdout",
     "output_type": "stream",
     "text": [
      "0    [{'id': 28, 'name': 'Action'}, {'id': 12, 'nam...\n",
      "1    [{'id': 12, 'name': 'Adventure'}, {'id': 14, '...\n",
      "2    [{'id': 28, 'name': 'Action'}, {'id': 12, 'nam...\n",
      "3    [{'id': 28, 'name': 'Action'}, {'id': 80, 'nam...\n",
      "4    [{'id': 28, 'name': 'Action'}, {'id': 12, 'nam...\n",
      "Name: genres, dtype: object\n"
     ]
    }
   ],
   "source": [
    "# Create dataframe copy\n",
    "df_cont = df.copy()\n",
    "\n",
    "#Convert features to the list object\n",
    "features = ['genres', 'keywords', 'cast', 'crew']\n",
    "for feature in features:\n",
    "    df_cont[feature] = df_cont[feature].apply(literal_eval)\n",
    "    \n",
    "print(df_cont['genres'].head())  "
   ]
  },
  {
   "cell_type": "code",
   "execution_count": 8,
   "metadata": {},
   "outputs": [
    {
     "name": "stdout",
     "output_type": "stream",
     "text": [
      "0        James Cameron\n",
      "1       Gore Verbinski\n",
      "2           Sam Mendes\n",
      "3    Christopher Nolan\n",
      "4       Andrew Stanton\n",
      "Name: director, dtype: object\n"
     ]
    }
   ],
   "source": [
    "# Create the director field\n",
    "def get_director(x):\n",
    "    for i in x:\n",
    "        if i['job'] == 'Director':\n",
    "            return i['name']\n",
    "    return np.nan\n",
    "\n",
    "df_cont['director'] = df_cont['crew'].apply(get_director)\n",
    "\n",
    "print(df_cont['director'].head())  "
   ]
  },
  {
   "cell_type": "code",
   "execution_count": 9,
   "metadata": {},
   "outputs": [
    {
     "data": {
      "image/png": "[encoded data removed]",
      "text/plain": [
       "<Figure size 432x288 with 1 Axes>"
      ]
     },
     "metadata": {
      "needs_background": "light"
     },
     "output_type": "display_data"
    }
   ],
   "source": [
    "# Analyze director field\n",
    "df_d = df_cont['director'].value_counts().head(10)\n",
    "df_d.plot.bar()\n",
    "plt.title(\"10 Most Popular Movie Directors\")\n",
    "plt.show()"
   ]
  },
  {
   "cell_type": "markdown",
   "metadata": {},
   "source": [
    "- Most famous movie directors have the highest number of movies in the database."
   ]
  },
  {
   "cell_type": "code",
   "execution_count": 10,
   "metadata": {},
   "outputs": [
    {
     "name": "stdout",
     "output_type": "stream",
     "text": [
      "Counter({1: 5311, 2: 1551, 3: 804, 4: 440, 5: 334, 6: 232, 7: 189, 8: 137, 9: 107, 10: 78, 11: 71, 12: 65, 13: 57, 14: 48, 16: 35, 17: 32, 15: 24, 21: 23, 19: 20, 18: 20, 20: 19, 25: 11, 34: 10, 26: 10, 23: 9, 22: 9, 42: 9, 30: 9, 29: 9, 27: 8, 24: 8, 39: 7, 36: 7, 28: 7, 32: 6, 40: 5, 46: 5, 44: 4, 45: 4, 52: 4, 49: 4, 69: 4, 41: 4, 33: 4, 56: 3, 35: 3, 43: 3, 51: 3, 31: 3, 105: 2, 47: 2, 48: 2, 37: 2, 57: 2, 50: 2, 99: 1, 54: 1, 189: 1, 197: 1, 38: 1, 80: 1, 71: 1, 72: 1, 94: 1, 118: 1, 126: 1, 150: 1, 318: 1, 61: 1, 89: 1, 65: 1, 66: 1, 307: 1, 95: 1, 76: 1, 170: 1, 106: 1, 98: 1, 58: 1, 81: 1, 84: 1, 92: 1, 324: 1, 53: 1, 55: 1, 139: 1, 111: 1})\n",
      "0    [culture clash, futur, space coloni, societi, ...\n",
      "1    [ocean, drug abus, exotic island, east india t...\n",
      "2    [spi, based on novel, secret ag, sequel, briti...\n",
      "3    [dc comic, crime fight, terrorist, secret iden...\n",
      "4    [based on novel, mar, medallion, space travel,...\n",
      "Name: keywords, dtype: object\n"
     ]
    }
   ],
   "source": [
    "# Create keywords field\n",
    "\n",
    "# Convert list of dictionaries to a list of strings\n",
    "df_cont['keywords'] = df_cont['keywords'].apply(lambda x: [i['name'] for i in x] if isinstance(x, list) else [])\n",
    "\n",
    "#Calcualte keyword frequency counts in the dataset.\n",
    "df_keywords = df_cont.apply(lambda x: pd.Series(x['keywords']),axis=1).stack().reset_index(level=1, drop=True)\n",
    "df_keywords = df_keywords.value_counts()\n",
    "df_keywords_counts = df_keywords.value_counts().to_dict()\n",
    "\n",
    "print(collections.Counter(df_keywords_counts))\n",
    "\n",
    "#Many keywords have frequency counts equal to 1 and 2.\n",
    "#They are unlikely to be usefu in predictions -> remove them.\n",
    "df_keywords = df_keywords[df_keywords > 2]\n",
    "\n",
    "def filter_keywords(x):\n",
    "    words = []\n",
    "    for i in x:\n",
    "        if i in df_keywords:\n",
    "            words.append(i)\n",
    "    return words\n",
    "\n",
    "# Extract word stems\n",
    "stemmer = SnowballStemmer('english')\n",
    "df_cont['keywords'] = df_cont['keywords'].apply(filter_keywords)\n",
    "df_cont['keywords'] = df_cont['keywords'].apply(lambda x: [stemmer.stem(i) for i in x])\n",
    "\n",
    "print(df_cont['keywords'].head(5))"
   ]
  },
  {
   "cell_type": "code",
   "execution_count": 11,
   "metadata": {},
   "outputs": [
    {
     "name": "stdout",
     "output_type": "stream",
     "text": [
      "0    [Action, Adventure, Fantasy, Science Fiction]\n",
      "1                     [Adventure, Fantasy, Action]\n",
      "2                       [Action, Adventure, Crime]\n",
      "3                 [Action, Crime, Drama, Thriller]\n",
      "4             [Action, Adventure, Science Fiction]\n",
      "Name: genres, dtype: object\n",
      "0    [Sam Worthington, Zoe Saldana, Sigourney Weave...\n",
      "1    [Johnny Depp, Orlando Bloom, Keira Knightley, ...\n",
      "2    [Daniel Craig, Christoph Waltz, Léa Seydoux, R...\n",
      "3    [Christian Bale, Michael Caine, Gary Oldman, A...\n",
      "4    [Taylor Kitsch, Lynn Collins, Samantha Morton,...\n",
      "Name: cast, dtype: object\n"
     ]
    }
   ],
   "source": [
    "#Return 5 or less elements of the list\n",
    "def get_list(x):\n",
    "    if isinstance(x, list):\n",
    "        words = [i['name'] for i in x]\n",
    "        if len(words) > 5:\n",
    "            words = words[:5]\n",
    "        return words\n",
    "    return []  #Return empty list in missing data\n",
    "\n",
    "features = ['genres', 'cast']\n",
    "for feature in features:\n",
    "    df_cont[feature] = df_cont[feature].apply(get_list)\n",
    "\n",
    "print(df_cont['genres'].head())\n",
    "print(df_cont['cast'].head())"
   ]
  },
  {
   "cell_type": "code",
   "execution_count": 12,
   "metadata": {},
   "outputs": [
    {
     "name": "stdout",
     "output_type": "stream",
     "text": [
      "0    [action, adventure, fantasy, sciencefiction]\n",
      "1                    [adventure, fantasy, action]\n",
      "2                      [action, adventure, crime]\n",
      "3                [action, crime, drama, thriller]\n",
      "4             [action, adventure, sciencefiction]\n",
      "Name: genres, dtype: object\n",
      "0    [cultureclash, futur, spacecoloni, societi, sp...\n",
      "1    [ocean, drugabus, exoticisland, eastindiatradi...\n",
      "2    [spi, basedonnovel, secretag, sequel, britishs...\n",
      "3    [dccomic, crimefight, terrorist, secretident, ...\n",
      "4    [basedonnovel, mar, medallion, spacetravel, pr...\n",
      "Name: keywords, dtype: object\n",
      "0    [samworthington, zoesaldana, sigourneyweaver, ...\n",
      "1    [johnnydepp, orlandobloom, keiraknightley, ste...\n",
      "2    [danielcraig, christophwaltz, léaseydoux, ralp...\n",
      "3    [christianbale, michaelcaine, garyoldman, anne...\n",
      "4    [taylorkitsch, lynncollins, samanthamorton, wi...\n",
      "Name: cast, dtype: object\n",
      "0        jamescameron\n",
      "1       goreverbinski\n",
      "2           sammendes\n",
      "3    christophernolan\n",
      "4       andrewstanton\n",
      "Name: director, dtype: object\n"
     ]
    }
   ],
   "source": [
    "# Format strings to lower case and remove spaces\n",
    "def format_data(x):\n",
    "    if isinstance(x, list):\n",
    "        return [str.lower(i.replace(\" \", \"\")) for i in x]\n",
    "    else:\n",
    "        #Return empty string if \"director\" fireld is not present\n",
    "        if isinstance(x, str):\n",
    "            return str.lower(x.replace(\" \", \"\"))\n",
    "        else:\n",
    "            return ''\n",
    "\n",
    "# Apply format_data function\n",
    "features = ['genres','keywords', 'cast', 'director']\n",
    "\n",
    "for feature in features:\n",
    "    df_cont[feature] = df_cont[feature].apply(format_data)        \n",
    "        \n",
    "\n",
    "print(df_cont['genres'].head())\n",
    "print(df_cont['keywords'].head())\n",
    "print(df_cont['cast'].head())\n",
    "print(df_cont['director'].head())"
   ]
  },
  {
   "cell_type": "code",
   "execution_count": 13,
   "metadata": {},
   "outputs": [
    {
     "name": "stdout",
     "output_type": "stream",
     "text": [
      "0    action adventure fantasy sciencefiction cultur...\n",
      "1    adventure fantasy action ocean drugabus exotic...\n",
      "2    action adventure crime spi basedonnovel secret...\n",
      "3    action crime drama thriller dccomic crimefight...\n",
      "4    action adventure sciencefiction basedonnovel m...\n",
      "Name: bow, dtype: object\n",
      "                                                    bow                      title\n",
      "4799  comedy romance  edwardburns kerrybishé marshad...                  Newlyweds\n",
      "4800  comedy drama romance tvmovie date loveatfirsts...  Signed, Sealed, Delivered\n",
      "4801    danielhenney elizacoupe billpaxton alanruck ...           Shanghai Calling\n",
      "4802  documentary obsess camcord crush drewbarrymore...          My Date with Drew\n",
      "4803  action adventure fantasy alien marvelcom james...             aliens on mars\n"
     ]
    }
   ],
   "source": [
    "#Create 'Bag of Words' (bow)\n",
    "def bow(x):\n",
    "    return ' '.join(x['genres']) + ' ' + ' '.join(x['keywords']) + ' ' + ' '.join(x['cast']) + ' ' + x['director']\n",
    "\n",
    "# Create a new soup feature\n",
    "df_cont['bow'] = df_cont.apply(bow, axis=1)\n",
    "\n",
    "df_cont = df_cont[['title', 'bow']]\n",
    "\n",
    "print(df_cont['bow'].head())\n",
    "\n",
    "if movie_count==0:\n",
    "    df_cont = df_cont.append(df_new,ignore_index=True, sort=True)\n",
    "\n",
    "print(df_cont.tail())\n",
    "\n",
    "#df_cont.to_csv('/Users/HF/Documents/Springboard/0_Capstone_2/bow.csv', sep='\\t')"
   ]
  },
  {
   "cell_type": "markdown",
   "metadata": {},
   "source": [
    "# Create count matrices"
   ]
  },
  {
   "cell_type": "code",
   "execution_count": 14,
   "metadata": {},
   "outputs": [
    {
     "name": "stdout",
     "output_type": "stream",
     "text": [
      "cv cosine matrix:\n",
      "[[1.         0.1114172  0.09925833 ... 0.         0.         0.37139068]\n",
      " [0.1114172  1.         0.1069045  ... 0.         0.         0.2       ]\n",
      " [0.09925833 0.1069045  1.         ... 0.         0.         0.17817416]\n",
      " ...\n",
      " [0.         0.         0.         ... 1.         0.         0.        ]\n",
      " [0.         0.         0.         ... 0.         1.         0.        ]\n",
      " [0.37139068 0.2        0.17817416 ... 0.         0.         1.        ]]\n",
      "\n",
      "cv cosine shape: (4804, 4804)\n"
     ]
    }
   ],
   "source": [
    "#Create CountVectorizer count matrix\n",
    "\n",
    "cv_count = CountVectorizer(stop_words='english')\n",
    "cv_mtrx = cv_count.fit_transform(df_cont['bow'])\n",
    "\n",
    "# Cosine Similarity matrix\n",
    "cv_cosine_sim = cosine_similarity(cv_mtrx, cv_mtrx)\n",
    "print(\"cv cosine matrix:\")\n",
    "print(cv_cosine_sim)\n",
    "print(\"\\ncv cosine shape:\", cv_cosine_sim.shape)"
   ]
  },
  {
   "cell_type": "code",
   "execution_count": 15,
   "metadata": {},
   "outputs": [
    {
     "name": "stdout",
     "output_type": "stream",
     "text": [
      "tf cosine matrix:\n",
      "[[1.         0.0227239  0.01743891 ... 0.         0.         0.23715276]\n",
      " [0.0227239  1.         0.01907534 ... 0.         0.         0.045997  ]\n",
      " [0.01743891 0.01907534 1.         ... 0.         0.         0.03529929]\n",
      " ...\n",
      " [0.         0.         0.         ... 1.         0.         0.        ]\n",
      " [0.         0.         0.         ... 0.         1.         0.        ]\n",
      " [0.23715276 0.045997   0.03529929 ... 0.         0.         1.        ]]\n",
      "\n",
      "tf cosine shape: (4804, 4804)\n"
     ]
    }
   ],
   "source": [
    "#Create TfidfVectorizer count matrix\n",
    "tf_count = TfidfVectorizer(stop_words = 'english')\n",
    "tf_mtrx = tf_count.fit_transform(df_cont['bow'])\n",
    "\n",
    "# Cosine Similarity matrix\n",
    "tf_cosine_sim = cosine_similarity(tf_mtrx, tf_mtrx)\n",
    "\n",
    "print(\"tf cosine matrix:\")\n",
    "print(tf_cosine_sim)\n",
    "print(\"\\ntf cosine shape:\", tf_cosine_sim.shape)"
   ]
  },
  {
   "cell_type": "markdown",
   "metadata": {},
   "source": [
    "# Define recommender function"
   ]
  },
  {
   "cell_type": "code",
   "execution_count": 16,
   "metadata": {},
   "outputs": [],
   "source": [
    "# Movie recommendation function\n",
    "def recommendation(title, cosine_sim):\n",
    "    # Get the movie index\n",
    "    idx = indices[title]\n",
    "\n",
    "    # Get the similarity scores\n",
    "    similarity_score = list(enumerate(cosine_sim[idx]))\n",
    "\n",
    "    # Sort the movies based on the similarity scores\n",
    "    similarity_score = sorted(similarity_score, key=lambda x: x[1], reverse=True)\n",
    "\n",
    "    # Get the scores of the 5 most similar movies\n",
    "    similarity_score = similarity_score[1:6]\n",
    "\n",
    "    # Get the movie indices\n",
    "    movie_indices = [i[0] for i in similarity_score]\n",
    "\n",
    "    # Return the top 5 most similar movies\n",
    "    return df_cont['title'].iloc[movie_indices]"
   ]
  },
  {
   "cell_type": "code",
   "execution_count": 17,
   "metadata": {},
   "outputs": [
    {
     "name": "stdout",
     "output_type": "stream",
     "text": [
      "0                                      Avatar\n",
      "1    Pirates of the Caribbean: At World's End\n",
      "2                                     Spectre\n",
      "3                       The Dark Knight Rises\n",
      "4                                 John Carter\n",
      "5                                Spider-Man 3\n",
      "6                                     Tangled\n",
      "7                     Avengers: Age of Ultron\n",
      "8      Harry Potter and the Half-Blood Prince\n",
      "9          Batman v Superman: Dawn of Justice\n",
      "Name: title, dtype: object\n"
     ]
    }
   ],
   "source": [
    "# Assign movie title as index\n",
    "df_cont = df_cont.reset_index()\n",
    "indices = pd.Series(df_cont.index, index=df_cont['title'])\n",
    "\n",
    "#Print a list of movie to pick from\n",
    "print(df_cont['title'].head(10))"
   ]
  },
  {
   "cell_type": "markdown",
   "metadata": {},
   "source": [
    "# Generate Prediction"
   ]
  },
  {
   "cell_type": "markdown",
   "metadata": {},
   "source": [
    "# CountVectorizer Prediction "
   ]
  },
  {
   "cell_type": "code",
   "execution_count": 18,
   "metadata": {},
   "outputs": [
    {
     "data": {
      "text/plain": [
       "0                                     Avatar\n",
       "38                  The Amazing Spider-Man 2\n",
       "71     The Mummy: Tomb of the Dragon Emperor\n",
       "79                                Iron Man 2\n",
       "786                        The Monkey King 2\n",
       "Name: title, dtype: object"
      ]
     },
     "execution_count": 18,
     "metadata": {},
     "output_type": "execute_result"
    }
   ],
   "source": [
    "recommendation(movie, cv_cosine_sim)"
   ]
  },
  {
   "cell_type": "markdown",
   "metadata": {},
   "source": [
    "# TfidfVectorizer Prediction "
   ]
  },
  {
   "cell_type": "code",
   "execution_count": 19,
   "metadata": {},
   "outputs": [
    {
     "data": {
      "text/plain": [
       "0                           Avatar\n",
       "79                      Iron Man 2\n",
       "2403                        Aliens\n",
       "1701    Once Upon a Time in Mexico\n",
       "38        The Amazing Spider-Man 2\n",
       "Name: title, dtype: object"
      ]
     },
     "execution_count": 19,
     "metadata": {},
     "output_type": "execute_result"
    }
   ],
   "source": [
    "recommendation(movie, tf_cosine_sim)"
   ]
  },
  {
   "cell_type": "code",
   "execution_count": null,
   "metadata": {},
   "outputs": [],
   "source": []
  },
  {
   "cell_type": "code",
   "execution_count": null,
   "metadata": {},
   "outputs": [],
   "source": []
  }
 ],
 "metadata": {
  "kernelspec": {
   "display_name": "Python 3",
   "language": "python",
   "name": "python3"
  },
  "language_info": {
   "codemirror_mode": {
    "name": "ipython",
    "version": 3
   },
   "file_extension": ".py",
   "mimetype": "text/x-python",
   "name": "python",
   "nbconvert_exporter": "python",
   "pygments_lexer": "ipython3",
   "version": "3.7.1"
  }
 },
 "nbformat": 4,
 "nbformat_minor": 2
}
