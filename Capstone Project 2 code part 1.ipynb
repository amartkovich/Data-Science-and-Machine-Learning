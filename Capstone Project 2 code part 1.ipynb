{
 "cells": [
  {
   "cell_type": "code",
   "execution_count": 1,
   "metadata": {},
   "outputs": [
    {
     "data": {
      "text/html": [
       "<style>.container { width:100% !important; }</style>"
      ],
      "text/plain": [
       "<IPython.core.display.HTML object>"
      ]
     },
     "metadata": {},
     "output_type": "display_data"
    },
    {
     "name": "stdout",
     "output_type": "stream",
     "text": [
      "(4803, 23)\n",
      "Index(['budget', 'genres', 'homepage', 'id', 'keywords', 'original_language',\n",
      "       'original_title', 'overview', 'popularity', 'production_companies',\n",
      "       'production_countries', 'release_date', 'revenue', 'runtime',\n",
      "       'spoken_languages', 'status', 'tagline', 'title', 'vote_average',\n",
      "       'vote_count', 'tittle', 'cast', 'crew'],\n",
      "      dtype='object')\n"
     ]
    }
   ],
   "source": [
    "import numpy as np\n",
    "import pandas as pd\n",
    "from datetime import datetime\n",
    "import time\n",
    "from datetime import date\n",
    "import datetime as dt\n",
    "import math\n",
    "\n",
    "\n",
    "import collections\n",
    "from nltk.stem.snowball import SnowballStemmer\n",
    "import nltk\n",
    "from nltk.tokenize import RegexpTokenizer\n",
    "\n",
    "from sklearn.metrics.pairwise import cosine_similarity\n",
    "from sklearn.feature_extraction.text import CountVectorizer\n",
    "from sklearn.feature_extraction.text import TfidfVectorizer\n",
    "\n",
    "import json\n",
    "from pandas.io.json import json_normalize\n",
    "from ast import literal_eval\n",
    "\n",
    "import matplotlib.pyplot as plt\n",
    "\n",
    "######################################################\n",
    "# Jupyter view adjustmets\n",
    "from IPython.core.display import display, HTML #Increase the code window width\n",
    "display(HTML(\"<style>.container { width:100% !important; }</style>\")) #Increase the code window width\n",
    "pd.set_option('expand_frame_repr', False) #keep columns inline withouth wrapping to the next line\n",
    "\n",
    "######################################################\n",
    "\n",
    "###### Download movie data\n",
    "df1 = pd.read_csv('/Users/HF/Documents/Springboard/0_Capstone_2/tmdb_5000_credits.csv', low_memory=False)\n",
    "df2 = pd.read_csv('/Users/HF/Documents/Springboard/0_Capstone_2/tmdb_5000_movies.csv', low_memory=False)\n",
    "\n",
    "df1.columns = ['id','tittle','cast','crew']\n",
    "\n",
    "df= df2.merge(df1,on='id')\n",
    "print(df.shape)\n",
    "print(df.columns)"
   ]
  },
  {
   "cell_type": "code",
   "execution_count": 2,
   "metadata": {},
   "outputs": [
    {
     "data": {
      "image/png": "[encoded data removed]",
      "text/plain": [
       "<Figure size 432x288 with 1 Axes>"
      ]
     },
     "metadata": {
      "needs_background": "light"
     },
     "output_type": "display_data"
    }
   ],
   "source": [
    "#Analyze average vote\n",
    "plt.hist(df['vote_average'], bins = 10)\n",
    "plt.show()"
   ]
  },
  {
   "cell_type": "markdown",
   "metadata": {},
   "source": [
    " - The distribution of viewers' votes is slightly skewed to the left - majority of the votes are 7 (41%), then 6 (27%) and third - 8 (19%)\n",
    " - 87% of all the movies are rated as 6 and above.\n",
    " - Very few movies (0.1%) received the average rating of 10.\n",
    " - About 1% of the movies received the average rating of 0.\n"
   ]
  },
  {
   "cell_type": "code",
   "execution_count": 3,
   "metadata": {},
   "outputs": [
    {
     "data": {
      "image/png": "[encoded data removed]",
      "text/plain": [
       "<Figure size 432x288 with 1 Axes>"
      ]
     },
     "metadata": {
      "needs_background": "light"
     },
     "output_type": "display_data"
    }
   ],
   "source": [
    "df2['decade'] = df['release_date'].apply(lambda x:(((float(str(x)[:4]))-1900)/10))\n",
    "\n",
    "df2 = round(df2['decade'].dropna())*10+1900\n",
    "plt.hist(df2, bins = 10)\n",
    "plt.show()"
   ]
  },
  {
   "cell_type": "markdown",
   "metadata": {},
   "source": [
    "- 90% the movies in the database have been released between 2000 and 2019."
   ]
  },
  {
   "cell_type": "code",
   "execution_count": 11,
   "metadata": {},
   "outputs": [
    {
     "name": "stdout",
     "output_type": "stream",
     "text": [
      "(4803, 5)\n"
     ]
    }
   ],
   "source": [
    "# Keep only the fileds required for recommender\n",
    "df = df[['title', 'genres','keywords', 'cast', 'crew']]\n",
    "print(df.shape)"
   ]
  },
  {
   "cell_type": "code",
   "execution_count": 13,
   "metadata": {},
   "outputs": [
    {
     "name": "stdout",
     "output_type": "stream",
     "text": [
      "Enter the movie: Avengers: Age of Ultron\n"
     ]
    }
   ],
   "source": [
    "movie = input('Enter the movie: ')\n",
    "# 'Avengers: Age of Ultron'\n",
    "\n",
    "# fantasy action adventure dualident amnesia"
   ]
  },
  {
   "cell_type": "code",
   "execution_count": 14,
   "metadata": {},
   "outputs": [],
   "source": [
    "movie_count = df['title'].str.contains(movie).sum()\n",
    "if movie_count==0:\n",
    "    print (\"No such movie in the data. Please add info below\")\n",
    "    m_genre = input (\"Enter movie genre:\")\n",
    "    m_director = input (\"Enter movie director:\")\n",
    "    m_crew = input (\"Enter movie crew:\")\n",
    "    # Create reciord of a new movie\n",
    "    df_new = pd.DataFrame(columns=['title', 'bow'])\n",
    "    df_new.append(pd.Series(), ignore_index=True)\n",
    "    df_new = df_new.append({'title' : str(movie) , \\\n",
    "                        'bow' : (str(m_genre)+\" \"+str(m_director)+\" \"+str(m_crew))} , ignore_index=True)\n",
    "\n"
   ]
  },
  {
   "cell_type": "markdown",
   "metadata": {},
   "source": [
    "# Process Features"
   ]
  },
  {
   "cell_type": "code",
   "execution_count": 15,
   "metadata": {},
   "outputs": [
    {
     "name": "stdout",
     "output_type": "stream",
     "text": [
      "0    [{'id': 28, 'name': 'Action'}, {'id': 12, 'nam...\n",
      "1    [{'id': 12, 'name': 'Adventure'}, {'id': 14, '...\n",
      "2    [{'id': 28, 'name': 'Action'}, {'id': 12, 'nam...\n",
      "3    [{'id': 28, 'name': 'Action'}, {'id': 80, 'nam...\n",
      "4    [{'id': 28, 'name': 'Action'}, {'id': 12, 'nam...\n",
      "Name: genres, dtype: object\n"
     ]
    }
   ],
   "source": [
    "# Create dataframe copy\n",
    "df_cont = df.copy()\n",
    "\n",
    "#Convert features to the list object\n",
    "features = ['genres', 'keywords', 'cast', 'crew']\n",
    "for feature in features:\n",
    "    df_cont[feature] = df_cont[feature].apply(literal_eval)\n",
    "    \n",
    "print(df_cont['genres'].head())  "
   ]
  },
  {
   "cell_type": "code",
   "execution_count": 16,
   "metadata": {},
   "outputs": [
    {
     "name": "stdout",
     "output_type": "stream",
     "text": [
      "0        James Cameron\n",
      "1       Gore Verbinski\n",
      "2           Sam Mendes\n",
      "3    Christopher Nolan\n",
      "4       Andrew Stanton\n",
      "Name: director, dtype: object\n"
     ]
    }
   ],
   "source": [
    "# Create the director field\n",
    "def get_director(x):\n",
    "    for i in x:\n",
    "        if i['job'] == 'Director':\n",
    "            return i['name']\n",
    "    return np.nan\n",
    "\n",
    "df_cont['director'] = df_cont['crew'].apply(get_director)\n",
    "\n",
    "print(df_cont['director'].head())  "
   ]
  },
  {
   "cell_type": "code",
   "execution_count": 17,
   "metadata": {},
   "outputs": [
    {
     "data": {
      "image/png": "[encoded data removed]",
      "text/plain": [
       "<Figure size 432x288 with 1 Axes>"
      ]
     },
     "metadata": {
      "needs_background": "light"
     },
     "output_type": "display_data"
    }
   ],
   "source": [
    "# Analyze director field\n",
    "df_d = df_cont['director'].value_counts().head(10)\n",
    "df_d.plot.bar()\n",
    "plt.title(\"10 Most Popular Movie Directors\")\n",
    "plt.show()"
   ]
  },
  {
   "cell_type": "markdown",
   "metadata": {},
   "source": [
    "- Most famous movie directors have the highest number of movies in the database."
   ]
  }
 ],
 "metadata": {
  "kernelspec": {
   "display_name": "Python 3",
   "language": "python",
   "name": "python3"
  },
  "language_info": {
   "codemirror_mode": {
    "name": "ipython",
    "version": 3
   },
   "file_extension": ".py",
   "mimetype": "text/x-python",
   "name": "python",
   "nbconvert_exporter": "python",
   "pygments_lexer": "ipython3",
   "version": "3.7.1"
  }
 },
 "nbformat": 4,
 "nbformat_minor": 2
}
